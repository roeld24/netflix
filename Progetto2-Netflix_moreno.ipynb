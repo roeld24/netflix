{
 "cells": [
  {
   "cell_type": "code",
   "execution_count": null,
   "id": "9bed2edb",
   "metadata": {},
   "outputs": [],
   "source": [
    "import pandas as pd\n",
    "import numpy as np\n",
    "import plotly.express as px\n",
    "import plotly.graph_objects as go\n",
    "import plotly.subplots as ps\n",
    "from plotly.subplots import make_subplots\n",
    "\n",
    "\n",
    "df = pd.read_csv('data/netflix_titles.csv', index_col='show_id')"
   ]
  },
  {
   "cell_type": "code",
   "execution_count": null,
   "id": "3d4661eb",
   "metadata": {},
   "outputs": [],
   "source": [
    "df"
   ]
  },
  {
   "cell_type": "code",
   "execution_count": null,
   "id": "e388b9bd",
   "metadata": {},
   "outputs": [],
   "source": [
    "movie_genres = []\n",
    "for s in df[df[\"type\"]=='Movie'][\"listed_in\"]:\n",
    "    movie_genres += s.split(', ')\n",
    "movie_genres = list(set(list(movie_genres)))\n",
    "movie_genres"
   ]
  },
  {
   "cell_type": "code",
   "execution_count": null,
   "id": "13280f9d",
   "metadata": {},
   "outputs": [],
   "source": [
    "import math\n",
    "\n",
    "def getDurationInMinutes(duration_string):\n",
    "    if isinstance(duration_string,str):\n",
    "        return int(duration_string.split(' ')[0])\n",
    "    return 0\n",
    "\n",
    "average_movie_duration_per_genre = {genre:0 for genre in movie_genres}\n",
    "for genre in movie_genres:\n",
    "    durations = df[df[\"listed_in\"].str.contains(genre)][\"duration\"].values.tolist()\n",
    "    durations = [getDurationInMinutes(s) for s in durations if isinstance(s,str)]\n",
    "    average_movie_duration_per_genre[genre] = np.mean(durations)\n",
    "average_movie_duration_per_genre"
   ]
  },
  {
   "cell_type": "code",
   "execution_count": null,
   "id": "1d9f2b3a",
   "metadata": {},
   "outputs": [],
   "source": [
    "index = [i for i in range(0,len(average_movie_duration_per_genre))]\n",
    "genres_average_duration_df = pd.DataFrame.from_dict(average_movie_duration_per_genre,orient='index')\n",
    "genres_average_duration_df['i'] = index\n",
    "genres_average_duration_df = genres_average_duration_df.reset_index().set_index('i')\n",
    "genres_average_duration_df.columns = ['genre','average_duration']\n",
    "m_i = genres_average_duration_df[genres_average_duration_df[\"genre\"]=='Movies'].index\n",
    "genres_average_duration_df.drop(m_i[0],inplace=True)\n",
    "genres_average_duration_df"
   ]
  },
  {
   "cell_type": "code",
   "execution_count": null,
   "id": "1f92c3dd",
   "metadata": {},
   "outputs": [],
   "source": [
    "px.histogram(genres_average_duration_df,y=\"genre\",x=\"average_duration\").update_yaxes(categoryorder='total ascending').update_layout(xaxis_title=\"Average duration (min)\", yaxis_title=\"Movie genres\")"
   ]
  },
  {
   "cell_type": "code",
   "execution_count": null,
   "id": "126f7258",
   "metadata": {},
   "outputs": [],
   "source": [
    "directors = []\n",
    "for s in df[\"director\"]:\n",
    "    if isinstance(s,str):\n",
    "        directors += s.split(', ')\n",
    "unique_directors = list(set(list(directors)))\n",
    "number_of_occurrences_per_director = {director:0 for director in unique_directors}\n",
    "for director in unique_directors:\n",
    "    number_of_occurrences_per_director[director] = directors.count(director)\n",
    "number_of_occurrences_per_director = {k: v for k, v in sorted(number_of_occurrences_per_director.items(), key=lambda item: item[1],reverse=True)}\n",
    "number_of_occurrences_per_director"
   ]
  },
  {
   "cell_type": "code",
   "execution_count": null,
   "id": "da81b45c",
   "metadata": {},
   "outputs": [],
   "source": [
    "directors_df = pd.DataFrame(number_of_occurrences_per_director.items(), columns=[\"Name\",\"Number of movies/TV series\"])\n",
    "top_10_directors_df = directors_df[:10]\n",
    "top_10_directors_df"
   ]
  },
  {
   "cell_type": "code",
   "execution_count": null,
   "id": "f3613060",
   "metadata": {},
   "outputs": [],
   "source": [
    "fig = go.Figure(data=[go.Table(\n",
    "    header=dict(values=list(top_10_directors_df.columns),\n",
    "                fill_color='paleturquoise',\n",
    "                align='center'),\n",
    "    cells=dict(values=top_10_directors_df.transpose().values.tolist(),\n",
    "               fill_color='lavender',\n",
    "               align='center'))\n",
    "])\n",
    "fig.show()"
   ]
  },
  {
   "cell_type": "code",
   "execution_count": null,
   "id": "b8261796",
   "metadata": {},
   "outputs": [],
   "source": [
    "movie_duration_by_release_year_df = df[df[\"type\"]=='Movie'][[\"release_year\",\"duration\"]]\n",
    "movie_duration_by_release_year_df[\"duration\"] = [getDurationInMinutes(s) for s in df[df[\"type\"]=='Movie'][\"duration\"]]\n",
    "#np.mean(movie_duration_by_release_year_df[movie_duration_by_release_year_df[\"release_year\"]==2017][\"duration\"])\n",
    "movie_duration_by_release_year_df"
   ]
  },
  {
   "cell_type": "code",
   "execution_count": null,
   "id": "5eaf232b",
   "metadata": {},
   "outputs": [],
   "source": [
    "list_of_countries = []\n",
    "for country in df[\"country\"]:\n",
    "    if isinstance(country,str):\n",
    "        list_of_countries += country.split(', ')\n",
    "list_of_countries = list(set(list_of_countries))"
   ]
  },
  {
   "cell_type": "code",
   "execution_count": null,
   "id": "d5126a9f",
   "metadata": {},
   "outputs": [],
   "source": [
    "countries_by_number_of_productions = {country:len(df[df[\"country\"].str.contains(country).fillna(False)]) for country in list_of_countries}\n",
    "len(df)"
   ]
  },
  {
   "cell_type": "code",
   "execution_count": null,
   "id": "31cf5c85",
   "metadata": {},
   "outputs": [],
   "source": [
    "import geopandas as gp\n",
    "import geodatasets as gd\n",
    "\n",
    "url = \"https://naciscdn.org/naturalearth/110m/cultural/ne_110m_admin_0_countries.zip\"\n",
    "world = gp.read_file(url)"
   ]
  },
  {
   "cell_type": "code",
   "execution_count": null,
   "id": "368314a8",
   "metadata": {},
   "outputs": [],
   "source": [
    "countries_by_number_of_productions_df = pd.DataFrame(countries_by_number_of_productions.items(),columns=[\"SOVEREIGNT\",\"productions_number\"])\n",
    "countries_by_number_of_productions_df.at[43,\"SOVEREIGNT\"] = \"United States of America\"\n",
    "#gdf = countries_by_number_of_productions_df.merge(world,how=\"right\",on=\"SOVEREIGNT\")\n",
    "gdf = world.merge(countries_by_number_of_productions_df,how=\"left\",on=\"SOVEREIGNT\")"
   ]
  },
  {
   "cell_type": "code",
   "execution_count": null,
   "id": "2e0b240d",
   "metadata": {},
   "outputs": [],
   "source": [
    "fig = px.choropleth(gdf,geojson=gdf.geometry,locations=gdf.index, color=\"productions_number\",height=500,width=1500, range_color=(0,1000))\n",
    "fig.update_geos(fitbounds=\"locations\", visible=True)\n",
    "fig.update_layout(title_text = 'Number of movies/TV series produced by country',title_x = 0.5)\n",
    "fig.show()"
   ]
  },
  {
   "cell_type": "code",
   "execution_count": null,
   "id": "dbe01f92",
   "metadata": {},
   "outputs": [],
   "source": [
    "#countries_by_number_of_productions_df.loc[98]\n",
    "gdf[gdf[\"SOVEREIGNT\"]=='United States of America']"
   ]
  },
  {
   "cell_type": "code",
   "execution_count": null,
   "id": "916f388a",
   "metadata": {},
   "outputs": [],
   "source": [
    "countries_by_number_of_productions_df[countries_by_number_of_productions_df[\"SOVEREIGNT\"]=='United States']"
   ]
  }
 ],
 "metadata": {
  "kernelspec": {
   "display_name": "base",
   "language": "python",
   "name": "python3"
  },
  "language_info": {
   "codemirror_mode": {
    "name": "ipython",
    "version": 3
   },
   "file_extension": ".py",
   "mimetype": "text/x-python",
   "name": "python",
   "nbconvert_exporter": "python",
   "pygments_lexer": "ipython3",
   "version": "3.12.9"
  }
 },
 "nbformat": 4,
 "nbformat_minor": 5
}
